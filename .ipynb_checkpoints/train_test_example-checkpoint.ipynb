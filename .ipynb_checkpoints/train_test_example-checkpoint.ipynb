{
 "cells": [
  {
   "cell_type": "code",
   "execution_count": 8,
   "metadata": {
    "collapsed": false
   },
   "outputs": [
    {
     "name": "stdout",
     "output_type": "stream",
     "text": [
      "running install\n",
      "running bdist_egg\n",
      "running egg_info\n",
      "writing requirements to fuzzy_dempster_shafer.egg-info/requires.txt\n",
      "writing top-level names to fuzzy_dempster_shafer.egg-info/top_level.txt\n",
      "writing fuzzy_dempster_shafer.egg-info/PKG-INFO\n",
      "writing dependency_links to fuzzy_dempster_shafer.egg-info/dependency_links.txt\n",
      "reading manifest file 'fuzzy_dempster_shafer.egg-info/SOURCES.txt'\n",
      "reading manifest template 'MANIFEST.in'\n",
      "warning: no files found matching 'README.rst'\n",
      "writing manifest file 'fuzzy_dempster_shafer.egg-info/SOURCES.txt'\n",
      "installing library code to build/bdist.macosx-10.6-x86_64/egg\n",
      "running install_lib\n",
      "warning: install_lib: 'build/lib' does not exist -- no Python modules to install\n",
      "\n",
      "creating build/bdist.macosx-10.6-x86_64/egg\n",
      "creating build/bdist.macosx-10.6-x86_64/egg/EGG-INFO\n",
      "copying fuzzy_dempster_shafer.egg-info/PKG-INFO -> build/bdist.macosx-10.6-x86_64/egg/EGG-INFO\n",
      "copying fuzzy_dempster_shafer.egg-info/SOURCES.txt -> build/bdist.macosx-10.6-x86_64/egg/EGG-INFO\n",
      "copying fuzzy_dempster_shafer.egg-info/dependency_links.txt -> build/bdist.macosx-10.6-x86_64/egg/EGG-INFO\n",
      "copying fuzzy_dempster_shafer.egg-info/not-zip-safe -> build/bdist.macosx-10.6-x86_64/egg/EGG-INFO\n",
      "copying fuzzy_dempster_shafer.egg-info/requires.txt -> build/bdist.macosx-10.6-x86_64/egg/EGG-INFO\n",
      "copying fuzzy_dempster_shafer.egg-info/top_level.txt -> build/bdist.macosx-10.6-x86_64/egg/EGG-INFO\n",
      "creating 'dist/fuzzy_dempster_shafer-0.12-py3.5.egg' and adding 'build/bdist.macosx-10.6-x86_64/egg' to it\n",
      "removing 'build/bdist.macosx-10.6-x86_64/egg' (and everything under it)\n",
      "Processing fuzzy_dempster_shafer-0.12-py3.5.egg\n",
      "removing '/Users/austinpowell/.local/lib/python3.5/site-packages/fuzzy_dempster_shafer-0.12-py3.5.egg' (and everything under it)\n",
      "creating /Users/austinpowell/.local/lib/python3.5/site-packages/fuzzy_dempster_shafer-0.12-py3.5.egg\n",
      "Extracting fuzzy_dempster_shafer-0.12-py3.5.egg to /Users/austinpowell/.local/lib/python3.5/site-packages\n",
      "fuzzy-dempster-shafer 0.12 is already the active version in easy-install.pth\n",
      "\n",
      "Installed /Users/austinpowell/.local/lib/python3.5/site-packages/fuzzy_dempster_shafer-0.12-py3.5.egg\n",
      "Processing dependencies for fuzzy-dempster-shafer==0.12\n",
      "Searching for sklearn==0.0\n",
      "Best match: sklearn 0.0\n",
      "Adding sklearn 0.0 to easy-install.pth file\n",
      "\n",
      "Using /Users/austinpowell/anaconda/lib/python3.5/site-packages\n",
      "Searching for numpy==1.11.1\n",
      "Best match: numpy 1.11.1\n",
      "Adding numpy 1.11.1 to easy-install.pth file\n",
      "\n",
      "Using /Users/austinpowell/anaconda/lib/python3.5/site-packages\n",
      "Searching for pandas==0.18.1\n",
      "Best match: pandas 0.18.1\n",
      "Adding pandas 0.18.1 to easy-install.pth file\n",
      "\n",
      "Using /Users/austinpowell/anaconda/lib/python3.5/site-packages\n",
      "Searching for scikit-learn==0.17.1\n",
      "Best match: scikit-learn 0.17.1\n",
      "Adding scikit-learn 0.17.1 to easy-install.pth file\n",
      "\n",
      "Using /Users/austinpowell/anaconda/lib/python3.5/site-packages\n",
      "Searching for pytz==2016.6.1\n",
      "Best match: pytz 2016.6.1\n",
      "Adding pytz 2016.6.1 to easy-install.pth file\n",
      "\n",
      "Using /Users/austinpowell/anaconda/lib/python3.5/site-packages\n",
      "Searching for python-dateutil==2.5.3\n",
      "Best match: python-dateutil 2.5.3\n",
      "Adding python-dateutil 2.5.3 to easy-install.pth file\n",
      "\n",
      "Using /Users/austinpowell/anaconda/lib/python3.5/site-packages\n",
      "Searching for six==1.10.0\n",
      "Best match: six 1.10.0\n",
      "Adding six 1.10.0 to easy-install.pth file\n",
      "\n",
      "Using /Users/austinpowell/anaconda/lib/python3.5/site-packages\n",
      "Finished processing dependencies for fuzzy-dempster-shafer==0.12\n"
     ]
    }
   ],
   "source": [
    "! python3 setup.py install --user"
   ]
  },
  {
   "cell_type": "code",
   "execution_count": 9,
   "metadata": {
    "collapsed": false
   },
   "outputs": [],
   "source": [
    "import fuzzy_dempster_shafer as fds\n",
    "import pandas as pd\n",
    "from sklearn.cross_validation import train_test_split"
   ]
  },
  {
   "cell_type": "code",
   "execution_count": 10,
   "metadata": {
    "collapsed": false
   },
   "outputs": [],
   "source": [
    "df = pd.read_csv('data/colon.csv')\n",
    "df = df[['sex','age','obstruct','perfor','time','node4','surg','extent']]\n",
    "df = df.dropna() # algorithm currently does not handle na values or non-numeric\n",
    "\n",
    "X_train, X_test, y_train, y_test = train_test_split(df, df['sex'], test_size = 0.2)\n",
    "X_train = X_train.drop(['sex'], axis = 1)\n",
    "X_test = X_test.drop(['sex'], axis = 1)"
   ]
  },
  {
   "cell_type": "code",
   "execution_count": 11,
   "metadata": {
    "collapsed": false
   },
   "outputs": [
    {
     "name": "stdout",
     "output_type": "stream",
     "text": [
      "X_test shape: (372, 7)\n"
     ]
    },
    {
     "ename": "NameError",
     "evalue": "name 'massComb' is not defined",
     "output_type": "error",
     "traceback": [
      "\u001b[0;31m---------------------------------------------------------------------------\u001b[0m",
      "\u001b[0;31mNameError\u001b[0m                                 Traceback (most recent call last)",
      "\u001b[0;32m<ipython-input-11-3440b12e0bb9>\u001b[0m in \u001b[0;36m<module>\u001b[0;34m()\u001b[0m\n\u001b[1;32m     11\u001b[0m \u001b[0;31m#temp_test = pd.DataFrame(X_test)\u001b[0m\u001b[0;34m\u001b[0m\u001b[0;34m\u001b[0m\u001b[0m\n\u001b[1;32m     12\u001b[0m \u001b[0mfit_object\u001b[0m \u001b[0;34m=\u001b[0m \u001b[0mfds\u001b[0m\u001b[0;34m.\u001b[0m\u001b[0mfit\u001b[0m\u001b[0;34m(\u001b[0m\u001b[0mX_train\u001b[0m\u001b[0;34m,\u001b[0m\u001b[0my_train\u001b[0m\u001b[0;34m)\u001b[0m\u001b[0;34m\u001b[0m\u001b[0m\n\u001b[0;32m---> 13\u001b[0;31m \u001b[0mpredictions\u001b[0m \u001b[0;34m=\u001b[0m \u001b[0mfds\u001b[0m\u001b[0;34m.\u001b[0m\u001b[0mpredict\u001b[0m\u001b[0;34m(\u001b[0m\u001b[0mfit_object\u001b[0m\u001b[0;34m,\u001b[0m\u001b[0mX_test\u001b[0m\u001b[0;34m)\u001b[0m\u001b[0;34m\u001b[0m\u001b[0m\n\u001b[0m\u001b[1;32m     14\u001b[0m \u001b[0;34m\u001b[0m\u001b[0m\n\u001b[1;32m     15\u001b[0m \u001b[0mt1\u001b[0m \u001b[0;34m=\u001b[0m \u001b[0mtime\u001b[0m\u001b[0;34m.\u001b[0m\u001b[0mtime\u001b[0m\u001b[0;34m(\u001b[0m\u001b[0;34m)\u001b[0m\u001b[0;34m\u001b[0m\u001b[0m\n",
      "\u001b[0;32m/Users/austinpowell/Google Drive/DS_Project/fuzzy_dempster_shafer/fuzzy_dempster_shafer/ds_predict.py\u001b[0m in \u001b[0;36mpredict\u001b[0;34m(train_object, X_test, measure_belief, uncertainty, uncertainty_ab, other, belief_increase, belief_decrease)\u001b[0m\n\u001b[1;32m    113\u001b[0m             \u001b[0mmasses\u001b[0m\u001b[0;34m.\u001b[0m\u001b[0mappend\u001b[0m\u001b[0;34m(\u001b[0m\u001b[0;34m[\u001b[0m\u001b[0mmass_0\u001b[0m\u001b[0;34m.\u001b[0m\u001b[0miloc\u001b[0m\u001b[0;34m[\u001b[0m\u001b[0mi\u001b[0m\u001b[0;34m]\u001b[0m\u001b[0;34m[\u001b[0m\u001b[0mj\u001b[0m\u001b[0;34m]\u001b[0m\u001b[0;34m,\u001b[0m \u001b[0mmass_1\u001b[0m\u001b[0;34m.\u001b[0m\u001b[0miloc\u001b[0m\u001b[0;34m[\u001b[0m\u001b[0mi\u001b[0m\u001b[0;34m]\u001b[0m\u001b[0;34m[\u001b[0m\u001b[0mj\u001b[0m\u001b[0;34m]\u001b[0m\u001b[0;34m,\u001b[0m \u001b[0mmass_0and1\u001b[0m\u001b[0;34m.\u001b[0m\u001b[0miloc\u001b[0m\u001b[0;34m[\u001b[0m\u001b[0mi\u001b[0m\u001b[0;34m]\u001b[0m\u001b[0;34m[\u001b[0m\u001b[0mj\u001b[0m\u001b[0;34m]\u001b[0m\u001b[0;34m]\u001b[0m\u001b[0;34m)\u001b[0m\u001b[0;34m\u001b[0m\u001b[0m\n\u001b[1;32m    114\u001b[0m \u001b[0;34m\u001b[0m\u001b[0m\n\u001b[0;32m--> 115\u001b[0;31m         \u001b[0mmass_combo\u001b[0m \u001b[0;34m=\u001b[0m \u001b[0mmassComb\u001b[0m\u001b[0;34m(\u001b[0m\u001b[0mmasses\u001b[0m\u001b[0;34m,\u001b[0m \u001b[0mprior0\u001b[0m \u001b[0;34m=\u001b[0m \u001b[0;34m(\u001b[0m\u001b[0;36m1\u001b[0m \u001b[0;34m-\u001b[0m \u001b[0mprobabilities\u001b[0m\u001b[0;34m[\u001b[0m\u001b[0mi\u001b[0m\u001b[0;34m]\u001b[0m\u001b[0;34m)\u001b[0m\u001b[0;34m,\u001b[0m \u001b[0mprior1\u001b[0m \u001b[0;34m=\u001b[0m \u001b[0mprobabilities\u001b[0m\u001b[0;34m[\u001b[0m\u001b[0mi\u001b[0m\u001b[0;34m]\u001b[0m\u001b[0;34m,\u001b[0m \u001b[0mprior01\u001b[0m \u001b[0;34m=\u001b[0m \u001b[0;36m0\u001b[0m\u001b[0;34m)\u001b[0m\u001b[0;34m\u001b[0m\u001b[0m\n\u001b[0m\u001b[1;32m    116\u001b[0m \u001b[0;34m\u001b[0m\u001b[0m\n\u001b[1;32m    117\u001b[0m         \u001b[0mbelief\u001b[0m\u001b[0;34m[\u001b[0m\u001b[0mi\u001b[0m\u001b[0;34m]\u001b[0m \u001b[0;34m=\u001b[0m \u001b[0mmass_combo\u001b[0m\u001b[0;34m[\u001b[0m\u001b[0;34m'blf1'\u001b[0m\u001b[0;34m]\u001b[0m \u001b[0;31m# belief is a degree of evidence\u001b[0m\u001b[0;34m\u001b[0m\u001b[0m\n",
      "\u001b[0;31mNameError\u001b[0m: name 'massComb' is not defined"
     ]
    }
   ],
   "source": [
    "print('X_test shape:',X_test.shape)\n",
    "\n",
    "import time\n",
    "\n",
    "t0 = time.time()\n",
    "\n",
    "#temp_test = pd.DataFrame(X_test)\n",
    "fit_object = fds.fit(X_train,y_train)\n",
    "predictions = fds.predict(fit_object,X_test)\n",
    "\n",
    "t1 = time.time()\n",
    "print('runtime: ',t1-t0)\n",
    "\n",
    "#print('LR probabilities:', predictions['LR_Probabilities'])\n",
    "#print('LR_plus_DS_Probabilities:', predictions['LR_plus_DS_Probabilities'])\n",
    "prediction_df = pd.DataFrame(predictions['LR_Probabilities'])\n",
    "prediction_df['LR_plus_DS_Probabilities'] = predictions['LR_plus_DS_Probabilities']\n",
    "prediction_df['uncertain'] = predictions['uncertain']\n",
    "\n",
    "prediction_df.columns = ['LR_Probabilities','LR_plus_DS_Probabilities','uncertain']\n",
    "print(prediction_df)"
   ]
  }
 ],
 "metadata": {
  "anaconda-cloud": {},
  "kernelspec": {
   "display_name": "Python [conda root]",
   "language": "python",
   "name": "conda-root-py"
  },
  "language_info": {
   "codemirror_mode": {
    "name": "ipython",
    "version": 3
   },
   "file_extension": ".py",
   "mimetype": "text/x-python",
   "name": "python",
   "nbconvert_exporter": "python",
   "pygments_lexer": "ipython3",
   "version": "3.5.2"
  }
 },
 "nbformat": 4,
 "nbformat_minor": 1
}
