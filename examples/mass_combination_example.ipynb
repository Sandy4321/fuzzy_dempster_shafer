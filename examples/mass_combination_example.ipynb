{
 "cells": [
  {
   "cell_type": "markdown",
   "metadata": {},
   "source": [
    "### Modified Dempster-Shafer Mass Combination\n",
    "*name: Austin Powell*\n",
    "*contact: powellaus10@gmail.com*\n",
    "\n",
    "Examples below demonstrate how our modified Dempster-Shafer algorithm could be used and some explanation of results."
   ]
  },
  {
   "cell_type": "code",
   "execution_count": 1,
   "metadata": {
    "collapsed": false
   },
   "outputs": [
    {
     "name": "stdout",
     "output_type": "stream",
     "text": [
      "\n",
      " \n",
      "\n",
      "EXAMPLE1: \n",
      "The different mass functions are (the last row is ):\n",
      "[0.3, 0.2, 0, 0.5]\n",
      "[0.2, 0, 0.2, 0.6]\n",
      "first entry\n",
      "First mass assignment. m0: 0.3 m1:  0.2 m01:  0 m_theta:  0.5 K:  1\n",
      "Next mass assignment. m0: 0.4166666666666667 m1:  0.16666666666666669 m01:  0.10416666666666667 m_theta:  0.3125 K:  0.04000000000000001\n",
      "m0: 0.4166666666666667 m1:  0.16666666666666669 m01:  0.10416666666666667 m_theta:  0.3125 K:  0.04000000000000001\n",
      "\n",
      "\n",
      "prior0:  0.5 prior1:  0.5 prior01:  0 prior_theta:  0.0\n",
      "certainty_denom:  1.5833333333333335\n",
      "C0:  0.5263157894736842 C1:  0.2105263157894737 C01:  0.06578947368421052 C_theta:  0.19736842105263155\n",
      "C0 + C1 + C01 + C_theta:  0.9999999999999999 \n",
      "\n",
      "Range of uncertainty for case 0:  ( 0.4166666666666667 , 0.8333333333333334 )\n",
      "Range of uncertainty for case 1:  ( 0.16666666666666669 , 0.5833333333333334 )\n",
      "belief0: 0.4166666666666667 belief1 0.16666666666666669 belief01: 0.6875\n",
      "plausible0: 0.8333333333333334 plausible1: 0.5833333333333334\n",
      "\n",
      " \n",
      " EXAMPLE1 w/ 50/50 prior: \n",
      "The different mass functions are (the last row is ):\n",
      "[0.3, 0.7, 0, 0.0]\n",
      "[0.4, 0.6, 0, 0.0]\n",
      "first entry\n",
      "First mass assignment. m0: 0.3 m1:  0.7 m01:  0 m_theta:  0.0 K:  1\n",
      "Next mass assignment. m0: 0.2222222222222222 m1:  0.7777777777777777 m01:  0.0 m_theta:  0.0 K:  0.45999999999999996\n",
      "m0: 0.2222222222222222 m1:  0.7777777777777777 m01:  0.0 m_theta:  0.0 K:  0.45999999999999996\n",
      "\n",
      "\n",
      "prior0:  0.5 prior1:  0.5 prior01:  0 prior_theta:  0.0\n",
      "certainty_denom:  1.9999999999999998\n",
      "C0:  0.22222222222222224 C1:  0.7777777777777778 C01:  0.0 C_theta:  0.0\n",
      "C0 + C1 + C01 + C_theta:  1.0 \n",
      "\n",
      "Range of uncertainty for case 0:  ( 0.2222222222222222 , 0.2222222222222222 )\n",
      "Range of uncertainty for case 1:  ( 0.7777777777777777 , 0.7777777777777777 )\n",
      "belief0: 0.2222222222222222 belief1 0.7777777777777777 belief01: 0.9999999999999999\n",
      "plausible0: 0.2222222222222222 plausible1: 0.7777777777777777\n",
      "\n",
      " \n",
      " EXAMPLE2: \n",
      "The different mass functions are (the last row is ):\n",
      "[0.3, 0.2, 0, 0.5]\n",
      "[0.2, 0, 0.2, 0.6]\n",
      "first entry\n",
      "First mass assignment. m0: 0.3 m1:  0.2 m01:  0 m_theta:  0.5 K:  1\n",
      "Next mass assignment. m0: 0.4166666666666667 m1:  0.16666666666666669 m01:  0.10416666666666667 m_theta:  0.3125 K:  0.04000000000000001\n",
      "m0: 0.4166666666666667 m1:  0.16666666666666669 m01:  0.10416666666666667 m_theta:  0.3125 K:  0.04000000000000001\n",
      "\n",
      "\n",
      "prior0:  0.5 prior1:  0.5 prior01:  0 prior_theta:  0.0\n",
      "certainty_denom:  1.5833333333333335\n",
      "C0:  0.5263157894736842 C1:  0.2105263157894737 C01:  0.06578947368421052 C_theta:  0.19736842105263155\n",
      "C0 + C1 + C01 + C_theta:  0.9999999999999999 \n",
      "\n",
      "Range of uncertainty for case 0:  ( 0.4166666666666667 , 0.8333333333333334 )\n",
      "Range of uncertainty for case 1:  ( 0.16666666666666669 , 0.5833333333333334 )\n",
      "belief0: 0.4166666666666667 belief1 0.16666666666666669 belief01: 0.6875\n",
      "plausible0: 0.8333333333333334 plausible1: 0.5833333333333334\n",
      "\n",
      " \n",
      " EXAMPLE2a (with specified priors): \n",
      "The different mass functions are (the last row is ):\n",
      "[0.3, 0.2, 0, 0.5]\n",
      "[0.2, 0, 0.2, 0.6]\n",
      "first entry\n",
      "First mass assignment. m0: 0.3 m1:  0.2 m01:  0 m_theta:  0.5 K:  1\n",
      "Next mass assignment. m0: 0.4166666666666667 m1:  0.16666666666666669 m01:  0.10416666666666667 m_theta:  0.3125 K:  0.04000000000000001\n",
      "m0: 0.4166666666666667 m1:  0.16666666666666669 m01:  0.10416666666666667 m_theta:  0.3125 K:  0.04000000000000001\n",
      "\n",
      "\n",
      "prior0:  0.25 prior1:  0.25 prior01:  0.25 prior_theta:  0.25\n",
      "certainty_denom:  4.0\n",
      "C0:  0.4166666666666667 C1:  0.16666666666666669 C01:  0.10416666666666667 C_theta:  0.3125\n",
      "C0 + C1 + C01 + C_theta:  1.0 \n",
      "\n",
      "Range of uncertainty for case 0:  ( 0.4166666666666667 , 0.8333333333333334 )\n",
      "Range of uncertainty for case 1:  ( 0.16666666666666669 , 0.5833333333333334 )\n",
      "belief0: 0.4166666666666667 belief1 0.16666666666666669 belief01: 0.6875\n",
      "plausible0: 0.8333333333333334 plausible1: 0.5833333333333334\n",
      "\n",
      " \n",
      " EXAMPLE FROM EVCOMBR4: \n",
      "The different mass functions are (the last row is ):\n",
      "[0.3, 0.2, 0, 0.5]\n",
      "[0.2, 0, 0.2, 0.6]\n",
      "[0.6, 0.4, 0, 0.0]\n",
      "first entry\n",
      "First mass assignment. m0: 0.3 m1:  0.2 m01:  0 m_theta:  0.5 K:  1\n",
      "Next mass assignment. m0: 0.4166666666666667 m1:  0.16666666666666669 m01:  0.10416666666666667 m_theta:  0.3125 K:  0.04000000000000001\n",
      "Next mass assignment. m0: 0.6818181818181819 m1:  0.31818181818181823 m01:  0.0 m_theta:  0.0 K:  0.2666666666666667\n",
      "m0: 0.6818181818181819 m1:  0.31818181818181823 m01:  0.0 m_theta:  0.0 K:  0.2666666666666667\n",
      "\n",
      "\n",
      "prior0:  0.5 prior1:  0.5 prior01:  0 prior_theta:  0.0\n",
      "certainty_denom:  2.0\n",
      "C0:  0.6818181818181819 C1:  0.31818181818181823 C01:  0.0 C_theta:  0.0\n",
      "C0 + C1 + C01 + C_theta:  1.0 \n",
      "\n",
      "Range of uncertainty for case 0:  ( 0.6818181818181819 , 0.6818181818181819 )\n",
      "Range of uncertainty for case 1:  ( 0.31818181818181823 , 0.31818181818181823 )\n",
      "belief0: 0.6818181818181819 belief1 0.31818181818181823 belief01: 1.0\n",
      "plausible0: 0.6818181818181819 plausible1: 0.31818181818181823\n"
     ]
    }
   ],
   "source": [
    "# %load mass_comb_fxn.py\n",
    "\n",
    "# masses are so far a set of 3 for each of the different combination of 0,1. In a dataset, the different masses will be represented\n",
    "#  by the different columns of the dataset\n",
    "#  - The entries for the masses are [mass_val0,mass_val1,mass_val01,mass_val_theta]\n",
    "# prior0: the prior belief for class 0. Default is uninformative\n",
    "# prior1: the prior belief for class 1. Default is uninformative\n",
    "# prior01: the prior belief for both classes. Default is 0\n",
    "\n",
    "# C0, C1, C01, C_theta are the modified DS beliefs where there is a prior. If no prior is specified, a uniform prior is assumed of equal\n",
    "#  assignment\n",
    "\n",
    "\n",
    "def safe_divide(numerator, denominator):\n",
    "    if denominator <= 0:\n",
    "        return numerator\n",
    "    else:\n",
    "        return numerator / denominator\n",
    "\n",
    "\n",
    "# default prior values are uniform uninformative\n",
    "def massComb(masses, prior0=0.5, prior1=0.5, prior01=0):\n",
    "\n",
    "    # the space in the hypothesis space that is not in the evidence space\n",
    "    prior_theta = 1 - (prior0 + prior1 + prior01)\n",
    "\n",
    "    # since sum of m(A) must equal 1 there may be frame of descernment is\n",
    "    # what's left over\n",
    "    for i in range(len(masses)):\n",
    "        masses[i].append(1 - sum(masses[i]))\n",
    "\n",
    "    ##\n",
    "    # PERFORM MASS COMBINATION\n",
    "    ##\n",
    "    print(\"The different mass functions are (the last row is ):\")\n",
    "    for row in masses:\n",
    "        print(row)\n",
    "    intrsxn_array_dim = len(masses[1])\n",
    "    # set the dimenensions of the mass comb. matrix.\n",
    "    intrsxn_array = [\n",
    "        [0 for j in range(intrsxn_array_dim)] for i in range(intrsxn_array_dim)]\n",
    "\n",
    "    ############### BEGIN: Combining all bpa's ##############################\n",
    "    for i in range(0,len(masses)-1):\n",
    "        if i == 0:\n",
    "            print(\"first entry\")\n",
    "            K = 1  \n",
    "            m0 = masses[0][0]\n",
    "            m1 = masses[0][1]\n",
    "            m01 = masses[0][2]\n",
    "            m_theta = masses[0][3]\n",
    "            print(\"First mass assignment. m0:\", m0, \"m1: \", m1,\n",
    "                  \"m01: \", m01, \"m_theta: \", m_theta, \"K: \", K)\n",
    "\n",
    "        new_mass = [[m0, m1, m01, m_theta]]\n",
    "        for col in range(intrsxn_array_dim):\n",
    "            for row in range(intrsxn_array_dim):\n",
    "                intrsxn_array[row][col] = new_mass[0][col]*masses[i + 1][row]\n",
    "\n",
    "        # CALCULATE K - the measure of conflict\n",
    "        K = intrsxn_array[0][1] + intrsxn_array[1][0]\n",
    "        # Calculate belief functions\n",
    "        m0 = (intrsxn_array[0][0] + intrsxn_array[2][0] + intrsxn_array[3][0]\n",
    "            + intrsxn_array[0][2] + intrsxn_array[0][3]) / (1 - K)\n",
    "        m1 = (intrsxn_array[1][1] + intrsxn_array[1][2] + intrsxn_array[1][3]\n",
    "            + intrsxn_array[2][1] + intrsxn_array[3][1]) / (1 - K)\n",
    "        m01 = intrsxn_array[2][3] / (1 - K)\n",
    "        # normalize to emphasise agreement\n",
    "        m_theta = intrsxn_array[3][3] / (1 - K)\n",
    "        print(\"Next mass assignment. m0:\", m0, \"m1: \", m1,\n",
    "              \"m01: \", m01, \"m_theta: \", m_theta, \"K: \", K)\n",
    "    ############### END: Combining all bpa's\n",
    "\n",
    "    print(\"m0:\", m0, \"m1: \", m1, \"m01: \",\n",
    "          m01, \"m_theta: \", m_theta, \"K: \", K)\n",
    "    # INCLUDE PRIOR INFORMATION\n",
    "    print(\"\\n\")\n",
    "    print(\"prior0: \", prior0, \"prior1: \", prior1,\n",
    "          \"prior01: \", prior01, \"prior_theta: \", prior_theta)\n",
    "    # basic certainty assignment (bca) and normalize\n",
    "    certainty_denominator = (safe_divide(numerator=m0, denominator=prior0) + safe_divide(numerator=m1, denominator=prior1)\n",
    "                             +\n",
    "                             safe_divide(\n",
    "                                 numerator=m01, denominator=prior01)\n",
    "                             + safe_divide(numerator=m_theta, denominator=prior_theta))\n",
    "    print(\"certainty_denom: \", certainty_denominator)\n",
    "    C0 = safe_divide(numerator=m0, denominator=prior0) / \\\n",
    "        certainty_denominator\n",
    "    C1 = safe_divide(numerator=m1, denominator=prior1) / \\\n",
    "        certainty_denominator\n",
    "    C01 = safe_divide(\n",
    "        numerator=m01, denominator=prior01) / certainty_denominator\n",
    "    C_theta = safe_divide(\n",
    "        numerator=m_theta, denominator=prior_theta) / certainty_denominator\n",
    "    print(\"C0: \", C0, \"C1: \", C1, \"C01: \", C01, \"C_theta: \", C_theta)\n",
    "    print(\"C0 + C1 + C01 + C_theta: \", C0 + C1 + C01 + C_theta, \"\\n\")\n",
    "\n",
    "    #print(\"inrsxn_array:\", intrsxn_array[0][1])\n",
    "    # Belief values: (not used yet, will be important later for multi-class\n",
    "    # s)\n",
    "    blf0 = m0\n",
    "    blf1 = m1\n",
    "    blf01 = m0 + m1 + m01\n",
    "\n",
    "    # Plausible values:  (not used yet, will be important)\n",
    "    plsb0 = m0 + m01 + m_theta\n",
    "    plsb1 = m1 + m01 + m_theta\n",
    "    plsb_theta = 1\n",
    "\n",
    "    # Range of Uncertainty\n",
    "    print(\"Range of uncertainty for case 0: \", \"(\", blf0, \",\", plsb0, \")\")\n",
    "    print(\"Range of uncertainty for case 1: \", \"(\", blf1, \",\", plsb1, \")\")\n",
    "\n",
    "    print(\"belief0:\", blf0, \"belief1\", blf1, \"belief01:\", blf01)\n",
    "    print(\"plausible0:\", plsb0, \"plausible1:\", plsb1)\n",
    "        # calculate K\n",
    "    # K = (1 - m1)*(m2) + m1*(1 - m2) # K is a measure of conflict\n",
    "\n",
    "        # joint_mass1 = (1 - m1) * (1 - m2) / (1- K)\n",
    "        # joint_mass2 = (m1)*(m2) / (1 - K)\n",
    "        # print (m1, m2,K, joint_mass1, joint_mass2)\n",
    "\n",
    "\n",
    "# Example below uses values from Intelligent Control Systems\n",
    "#print(\"\\n\" ,\"\\n\",\"EXAMPLE FROM INTELLIGENT CONTROL SYSTEMS\")\n",
    "# massComb(masses=[[.3,.2,0,.5],[.2,0,.2,0.6]])\n",
    "\n",
    "print(\"\\n\", \"\\n\", )\n",
    "print(\"EXAMPLE1: \")\n",
    "# massComb(masses=[[.3, .7, 0], [.4, 0.6, 0]])\n",
    "#massComb(masses=[[.3, .7, 0], [.4, 0.6, 0],[0.4,0.6,0]])\n",
    "# massComb(masses=[[.3, .7, 0], [.4, 0.6, 0],[0.4,0.6,0],[0.2,0.8,0]])\n",
    "#massComb(masses=[[.3, .7, 0], [.4, 0.6, 0],[0.4,0.6,0],[0.2,0.8,0],[0.2,0.8,0]])\n",
    "massComb(masses=[[.3,.2,0],[.2,0,.2]])\n",
    "# ONLY RUN FIRST EXAMPLE\n",
    "exit()\n",
    "# ONLY RUN FIRST EXAMPLE\n",
    "\n",
    "# checks to make sure that\n",
    "print(\"\\n\", \"\\n\", \"EXAMPLE1 w/ 50/50 prior: \")\n",
    "massComb(masses=[[.3, .7, 0], [.4, 0.6, 0]], prior0=0.5, prior1=0.5)\n",
    "\n",
    "print(\"\\n\", \"\\n\", \"EXAMPLE2: \")\n",
    "massComb(masses=[[.3, 0.2, 0], [.2, 0, 0.2]])\n",
    "\n",
    "print(\"\\n\", \"\\n\", \"EXAMPLE2a (with specified priors): \")\n",
    "massComb(masses=[[.3, 0.2, 0], [.2, 0, 0.2]],\n",
    "         prior0=0.25, prior1=0.25, prior01=0.25)\n",
    "\n",
    "\n",
    "# fails on the one below...at least according to EvCombR package in R\n",
    "print(\"\\n\", \"\\n\", \"EXAMPLE FROM EVCOMBR4: \")\n",
    "massComb(masses=[[.3, 0.2, 0], [.2, 0, 0.2], [.6, 0.4, 0]])\n"
   ]
  },
  {
   "cell_type": "markdown",
   "metadata": {
    "collapsed": true
   },
   "source": [
    "#### The following examples demonstrate how to input basic values into the the Modified DS"
   ]
  },
  {
   "cell_type": "markdown",
   "metadata": {},
   "source": [
    "##### Example 1\n",
    "The most basic demonstration of mass combination for 2 classes"
   ]
  },
  {
   "cell_type": "code",
   "execution_count": 3,
   "metadata": {
    "collapsed": false
   },
   "outputs": [
    {
     "name": "stdout",
     "output_type": "stream",
     "text": [
      "The different mass functions are (the last row is ):\n",
      "[0.3, 0.7, 0, 0.0]\n",
      "[0.4, 0.6, 0, 0.0]\n",
      "first entry\n",
      "First mass assignment. m0: 0.3 m1:  0.7 m01:  0 m_theta:  0.0 K:  1\n",
      "Next mass assignment. m0: 0.2222222222222222 m1:  0.7777777777777777 m01:  0.0 m_theta:  0.0 K:  0.45999999999999996\n",
      "m0: 0.2222222222222222 m1:  0.7777777777777777 m01:  0.0 m_theta:  0.0 K:  0.45999999999999996\n",
      "\n",
      "\n",
      "prior0:  0.5 prior1:  0.5 prior01:  0 prior_theta:  0.0\n",
      "certainty_denom:  1.9999999999999998\n",
      "C0:  0.22222222222222224 C1:  0.7777777777777778 C01:  0.0 C_theta:  0.0\n",
      "C0 + C1 + C01 + C_theta:  1.0 \n",
      "\n",
      "Range of uncertainty for case 0:  ( 0.2222222222222222 , 0.2222222222222222 )\n",
      "Range of uncertainty for case 1:  ( 0.7777777777777777 , 0.7777777777777777 )\n",
      "belief0: 0.2222222222222222 belief1 0.7777777777777777 belief01: 0.9999999999999999\n",
      "plausible0: 0.2222222222222222 plausible1: 0.7777777777777777\n"
     ]
    }
   ],
   "source": [
    "# mass_value0 = 0.3, mass_value1 = 0.7\n",
    "# Prior is not specified\n",
    "massComb(masses = [[.3,.7,0],[.4,0.6,0]])"
   ]
  },
  {
   "cell_type": "markdown",
   "metadata": {},
   "source": [
    "##### Example 1a\n",
    "This next example demonstrates that the massCombination does not change when we specify unassuming priors (the values should be the same as above):"
   ]
  },
  {
   "cell_type": "code",
   "execution_count": 5,
   "metadata": {
    "collapsed": true
   },
   "outputs": [
    {
     "name": "stdout",
     "output_type": "stream",
     "text": [
      "The different mass functions are (the last row is ):\n",
      "[0.3, 0.7, 0, 0, 0.0]\n",
      "[0.4, 0.6, 0, 0, 0.0]\n",
      "[0.12, 0.27999999999999997, 0.0, 0.0, 0.0]\n",
      "[0.18, 0.42, 0.0, 0.0, 0.0]\n",
      "[0.0, 0.0, 0, 0, 0.0]\n",
      "[0.0, 0.0, 0, 0, 0.0]\n",
      "[0.0, 0.0, 0.0, 0.0, 0.0]\n",
      "m0: 0.2222222222222222 m1:  0.7777777777777777 m01:  0.0 m_theta:  0.0 K:  0.45999999999999996\n",
      "\n",
      "\n",
      "prior0:  0.5 prior1:  0.5 prior01:  0 prior_theta:  0.0\n",
      "certainty_denom:  1.9999999999999998\n",
      "C0:  0.22222222222222224 C1:  0.7777777777777778 C01:  0.0 C_theta:  0.0\n",
      "C0 + C1 + C01 + C_theta:  1.0 \n",
      "\n",
      "Range of uncertainty for case 0:  ( 0.2222222222222222 , 0.2222222222222222 )\n",
      "Range of uncertainty for case 1:  ( 0.7777777777777777 , 0.7777777777777777 )\n",
      "belief0: 0.2222222222222222 belief1 0.7777777777777777 belief01: 0.9999999999999999\n",
      "plausible0: 0.2222222222222222 plausible1: 0.7777777777777777\n"
     ]
    }
   ],
   "source": [
    "massComb(masses = [[.3,.7,0],[.4,0.6,0]], prior0 = 0.5, prior1 = 0.5)"
   ]
  },
  {
   "cell_type": "markdown",
   "metadata": {},
   "source": [
    "##### Example 2\n",
    "This example demonstrates that although values are specified for the 0 and 1 classes, these do not add up to 1 so the 'left-over' mass is assigned to the alternate hypothesis space."
   ]
  },
  {
   "cell_type": "code",
   "execution_count": null,
   "metadata": {
    "collapsed": true
   },
   "outputs": [],
   "source": [
    "massComb(masses = [[.3,0.2,0],[.2,0,0.2]])"
   ]
  },
  {
   "cell_type": "markdown",
   "metadata": {},
   "source": [
    "##### Example 2a\n",
    "We are using the same mass values for classes 0 and 1, however as with example 1a we are explicitly specifying the prior. Note that the priors do not add up to 1 so that the remaining prior probability is assigned to alternate hypothesis space."
   ]
  },
  {
   "cell_type": "code",
   "execution_count": null,
   "metadata": {
    "collapsed": true
   },
   "outputs": [],
   "source": [
    "massComb(masses = [[.3,0.2,0],[.2,0,0.2]], prior0 = 0.25, prior1 = 0.25, prior01 = 0.25)"
   ]
  },
  {
   "cell_type": "markdown",
   "metadata": {},
   "source": [
    "#### Example 3\n",
    "Previous examples show combining only two sources of information or \"features\". The below example demonstrates 4 \"features\" where there is an obvious bias in the information towards class 1. *Note: The belief for the result being class 0/1 is correct for values of 1 since we have not given the algorithm any indication that the truth could be outside of our null prediction*"
   ]
  },
  {
   "cell_type": "code",
   "execution_count": 6,
   "metadata": {
    "collapsed": false
   },
   "outputs": [
    {
     "name": "stdout",
     "output_type": "stream",
     "text": [
      "The different mass functions are (the last row is ):\n",
      "[0.3, 0.7, 0, 0.0]\n",
      "[0.4, 0.6, 0, 0.0]\n",
      "[0.4, 0.6, 0, 0.0]\n",
      "[0.2, 0.8, 0, 0.0]\n",
      "[0.2, 0.8, 0, 0.0]\n",
      "[0.12, 0.27999999999999997, 0.0, 0.0]\n",
      "[0.18, 0.42, 0.0, 0.0]\n",
      "[0.0, 0.0, 0, 0.0]\n",
      "[0.0, 0.0, 0.0, 0.0]\n",
      "m0: 0.2222222222222222 m1:  0.7777777777777777 m01:  0.0 m_theta:  0.0 K:  0.45999999999999996\n",
      "\n",
      "\n",
      "prior0:  0.5 prior1:  0.5 prior01:  0 prior_theta:  0.0\n",
      "certainty_denom:  1.9999999999999998\n",
      "C0:  0.22222222222222224 C1:  0.7777777777777778 C01:  0.0 C_theta:  0.0\n",
      "C0 + C1 + C01 + C_theta:  1.0 \n",
      "\n",
      "Range of uncertainty for case 0:  ( 0.2222222222222222 , 0.2222222222222222 )\n",
      "Range of uncertainty for case 1:  ( 0.7777777777777777 , 0.7777777777777777 )\n",
      "belief0: 0.2222222222222222 belief1 0.7777777777777777 belief01: 0.9999999999999999\n",
      "plausible0: 0.2222222222222222 plausible1: 0.7777777777777777\n"
     ]
    }
   ],
   "source": [
    "# fails on the one below...at least according to EvCombR package in R\n",
    "massComb(masses=[[.3, .7, 0], [.4, 0.6, 0],[0.4,0.6,0],[0.2,0.8,0],[0.2,0.8,0]])"
   ]
  },
  {
   "cell_type": "code",
   "execution_count": null,
   "metadata": {
    "collapsed": true
   },
   "outputs": [],
   "source": []
  }
 ],
 "metadata": {
  "anaconda-cloud": {},
  "kernelspec": {
   "display_name": "Python [default]",
   "language": "python",
   "name": "python3"
  },
  "language_info": {
   "codemirror_mode": {
    "name": "ipython",
    "version": 3
   },
   "file_extension": ".py",
   "mimetype": "text/x-python",
   "name": "python",
   "nbconvert_exporter": "python",
   "pygments_lexer": "ipython3",
   "version": "3.5.2"
  }
 },
 "nbformat": 4,
 "nbformat_minor": 0
}
