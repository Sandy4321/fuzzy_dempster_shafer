{
 "cells": [
  {
   "cell_type": "code",
   "execution_count": 2,
   "metadata": {
    "collapsed": false
   },
   "outputs": [],
   "source": [
    "# install local version for testing: ! python3 setup.py install --user\n",
    "import fuzzy_dempster_shafer as fds\n",
    "import pandas as pd\n",
    "from sklearn.cross_validation import train_test_split"
   ]
  },
  {
   "cell_type": "code",
   "execution_count": 3,
   "metadata": {
    "collapsed": false
   },
   "outputs": [],
   "source": [
    "df = pd.read_csv('data/colon.csv')\n",
    "df = df[['sex','age','obstruct','perfor','time','node4','surg','extent']]\n",
    "df = df.dropna() # algorithm currently does not handle na values or non-numeric\n",
    "\n",
    "X_train, X_test, y_train, y_test = train_test_split(df, df['sex'], test_size = 0.2)\n",
    "X_train = X_train.drop(['sex'], axis = 1)\n",
    "X_test = X_test.drop(['sex'], axis = 1)"
   ]
  },
  {
   "cell_type": "code",
   "execution_count": 4,
   "metadata": {
    "collapsed": false
   },
   "outputs": [
    {
     "name": "stdout",
     "output_type": "stream",
     "text": [
      "X_test shape: (372, 7)\n",
      "runtime:  2.4933040142059326\n",
      "     LR_Probabilities  LR_plus_DS_Probabilities  uncertain\n",
      "0            0.968362                       1.0        1.0\n",
      "1            0.997050                       1.0        1.0\n",
      "2            0.992166                       1.0        1.0\n",
      "3            0.998369                       1.0        1.0\n",
      "4            0.998402                       1.0        1.0\n",
      "5            0.999580                       1.0        1.0\n",
      "6            0.999415                       1.0        1.0\n",
      "7            0.995982                       1.0        1.0\n",
      "8            0.997138                       1.0        1.0\n",
      "9            0.996890                       1.0        1.0\n",
      "10           0.996691                       1.0        1.0\n",
      "11           0.987699                       1.0        1.0\n",
      "12           0.991892                       1.0        1.0\n",
      "13           0.995453                       1.0        1.0\n",
      "14           0.992792                       1.0        1.0\n",
      "15           0.991482                       1.0        1.0\n",
      "16           0.999660                       1.0        1.0\n",
      "17           0.986710                       1.0        1.0\n",
      "18           0.999552                       1.0        1.0\n",
      "19           0.998621                       1.0        1.0\n",
      "20           0.978359                       1.0        1.0\n",
      "21           0.986572                       1.0        1.0\n",
      "22           0.998560                       1.0        1.0\n",
      "23           0.999682                       1.0        1.0\n",
      "24           0.998668                       1.0        1.0\n",
      "25           0.999522                       1.0        1.0\n",
      "26           0.997171                       1.0        1.0\n",
      "27           0.999861                       1.0        1.0\n",
      "28           0.999065                       1.0        1.0\n",
      "29           0.998866                       1.0        1.0\n",
      "..                ...                       ...        ...\n",
      "342          0.961966                       1.0        1.0\n",
      "343          0.994253                       1.0        1.0\n",
      "344          0.999083                       1.0        1.0\n",
      "345          0.986762                       1.0        1.0\n",
      "346          0.998469                       1.0        1.0\n",
      "347          0.995800                       1.0        1.0\n",
      "348          0.989509                       1.0        1.0\n",
      "349          0.999613                       1.0        1.0\n",
      "350          0.989496                       1.0        1.0\n",
      "351          0.999308                       1.0        1.0\n",
      "352          0.987578                       1.0        1.0\n",
      "353          0.999163                       1.0        1.0\n",
      "354          0.999622                       1.0        1.0\n",
      "355          0.999402                       1.0        1.0\n",
      "356          0.998565                       1.0        1.0\n",
      "357          0.993303                       1.0        1.0\n",
      "358          0.997477                       1.0        1.0\n",
      "359          0.997575                       1.0        1.0\n",
      "360          0.935996                       1.0        1.0\n",
      "361          0.999175                       1.0        1.0\n",
      "362          0.993322                       1.0        1.0\n",
      "363          0.998932                       1.0        1.0\n",
      "364          0.997826                       1.0        1.0\n",
      "365          0.999445                       1.0        1.0\n",
      "366          0.997257                       1.0        1.0\n",
      "367          0.988629                       1.0        1.0\n",
      "368          0.984839                       1.0        1.0\n",
      "369          0.999125                       1.0        1.0\n",
      "370          0.999081                       1.0        1.0\n",
      "371          0.991498                       1.0        1.0\n",
      "\n",
      "[372 rows x 3 columns]\n"
     ]
    }
   ],
   "source": [
    "print('X_test shape:',X_test.shape)\n",
    "\n",
    "import time\n",
    "\n",
    "t0 = time.time()\n",
    "\n",
    "#temp_test = pd.DataFrame(X_test)\n",
    "fit_object = fds.fit(X_train,y_train)\n",
    "predictions = fds.predict(fit_object,X_test)\n",
    "\n",
    "t1 = time.time()\n",
    "print('runtime: ',t1-t0)\n",
    "\n",
    "#print('LR probabilities:', predictions['LR_Probabilities'])\n",
    "#print('LR_plus_DS_Probabilities:', predictions['LR_plus_DS_Probabilities'])\n",
    "prediction_df = pd.DataFrame(predictions['LR_Probabilities'])\n",
    "prediction_df['LR_plus_DS_Probabilities'] = predictions['LR_plus_DS_Probabilities']\n",
    "prediction_df['uncertain'] = predictions['uncertain']\n",
    "\n",
    "prediction_df.columns = ['LR_Probabilities','LR_plus_DS_Probabilities','uncertain']\n",
    "print(prediction_df)"
   ]
  },
  {
   "cell_type": "code",
   "execution_count": null,
   "metadata": {
    "collapsed": true
   },
   "outputs": [],
   "source": []
  }
 ],
 "metadata": {
  "anaconda-cloud": {},
  "kernelspec": {
   "display_name": "Python [conda root]",
   "language": "python",
   "name": "conda-root-py"
  },
  "language_info": {
   "codemirror_mode": {
    "name": "ipython",
    "version": 3
   },
   "file_extension": ".py",
   "mimetype": "text/x-python",
   "name": "python",
   "nbconvert_exporter": "python",
   "pygments_lexer": "ipython3",
   "version": "3.5.2"
  }
 },
 "nbformat": 4,
 "nbformat_minor": 1
}
