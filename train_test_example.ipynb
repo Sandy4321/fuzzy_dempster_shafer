{
 "cells": [
  {
   "cell_type": "code",
   "execution_count": 1,
   "metadata": {
    "collapsed": false
   },
   "outputs": [
    {
     "name": "stdout",
     "output_type": "stream",
     "text": [
      "running install\n",
      "running bdist_egg\n",
      "running egg_info\n",
      "writing dependency_links to fuzzy_dempster_shafer.egg-info/dependency_links.txt\n",
      "writing top-level names to fuzzy_dempster_shafer.egg-info/top_level.txt\n",
      "writing requirements to fuzzy_dempster_shafer.egg-info/requires.txt\n",
      "writing fuzzy_dempster_shafer.egg-info/PKG-INFO\n",
      "reading manifest file 'fuzzy_dempster_shafer.egg-info/SOURCES.txt'\n",
      "reading manifest template 'MANIFEST.in'\n",
      "writing manifest file 'fuzzy_dempster_shafer.egg-info/SOURCES.txt'\n",
      "installing library code to build/bdist.macosx-10.6-x86_64/egg\n",
      "running install_lib\n",
      "running build_py\n",
      "copying fuzzy_dempster_shafer/__init__.py -> build/lib/fuzzy_dempster_shafer\n",
      "creating build/bdist.macosx-10.6-x86_64/egg\n",
      "creating build/bdist.macosx-10.6-x86_64/egg/fuzzy_dempster_shafer\n",
      "copying build/lib/fuzzy_dempster_shafer/__init__.py -> build/bdist.macosx-10.6-x86_64/egg/fuzzy_dempster_shafer\n",
      "copying build/lib/fuzzy_dempster_shafer/ds_fit.py -> build/bdist.macosx-10.6-x86_64/egg/fuzzy_dempster_shafer\n",
      "copying build/lib/fuzzy_dempster_shafer/ds_predict.py -> build/bdist.macosx-10.6-x86_64/egg/fuzzy_dempster_shafer\n",
      "copying build/lib/fuzzy_dempster_shafer/mass_comb_fxn.py -> build/bdist.macosx-10.6-x86_64/egg/fuzzy_dempster_shafer\n",
      "byte-compiling build/bdist.macosx-10.6-x86_64/egg/fuzzy_dempster_shafer/__init__.py to __init__.cpython-35.pyc\n",
      "byte-compiling build/bdist.macosx-10.6-x86_64/egg/fuzzy_dempster_shafer/ds_fit.py to ds_fit.cpython-35.pyc\n",
      "byte-compiling build/bdist.macosx-10.6-x86_64/egg/fuzzy_dempster_shafer/ds_predict.py to ds_predict.cpython-35.pyc\n",
      "byte-compiling build/bdist.macosx-10.6-x86_64/egg/fuzzy_dempster_shafer/mass_comb_fxn.py to mass_comb_fxn.cpython-35.pyc\n",
      "creating build/bdist.macosx-10.6-x86_64/egg/EGG-INFO\n",
      "copying fuzzy_dempster_shafer.egg-info/PKG-INFO -> build/bdist.macosx-10.6-x86_64/egg/EGG-INFO\n",
      "copying fuzzy_dempster_shafer.egg-info/SOURCES.txt -> build/bdist.macosx-10.6-x86_64/egg/EGG-INFO\n",
      "copying fuzzy_dempster_shafer.egg-info/dependency_links.txt -> build/bdist.macosx-10.6-x86_64/egg/EGG-INFO\n",
      "copying fuzzy_dempster_shafer.egg-info/not-zip-safe -> build/bdist.macosx-10.6-x86_64/egg/EGG-INFO\n",
      "copying fuzzy_dempster_shafer.egg-info/requires.txt -> build/bdist.macosx-10.6-x86_64/egg/EGG-INFO\n",
      "copying fuzzy_dempster_shafer.egg-info/top_level.txt -> build/bdist.macosx-10.6-x86_64/egg/EGG-INFO\n",
      "creating 'dist/fuzzy_dempster_shafer-0.123-py3.5.egg' and adding 'build/bdist.macosx-10.6-x86_64/egg' to it\n",
      "removing 'build/bdist.macosx-10.6-x86_64/egg' (and everything under it)\n",
      "Processing fuzzy_dempster_shafer-0.123-py3.5.egg\n",
      "removing '/Users/austinpowell/.local/lib/python3.5/site-packages/fuzzy_dempster_shafer-0.123-py3.5.egg' (and everything under it)\n",
      "creating /Users/austinpowell/.local/lib/python3.5/site-packages/fuzzy_dempster_shafer-0.123-py3.5.egg\n",
      "Extracting fuzzy_dempster_shafer-0.123-py3.5.egg to /Users/austinpowell/.local/lib/python3.5/site-packages\n",
      "fuzzy-dempster-shafer 0.123 is already the active version in easy-install.pth\n",
      "\n",
      "Installed /Users/austinpowell/.local/lib/python3.5/site-packages/fuzzy_dempster_shafer-0.123-py3.5.egg\n",
      "Processing dependencies for fuzzy-dempster-shafer==0.123\n",
      "Searching for sklearn==0.0\n",
      "Best match: sklearn 0.0\n",
      "Adding sklearn 0.0 to easy-install.pth file\n",
      "\n",
      "Using /Users/austinpowell/anaconda/lib/python3.5/site-packages\n",
      "Searching for numpy==1.11.1\n",
      "Best match: numpy 1.11.1\n",
      "Adding numpy 1.11.1 to easy-install.pth file\n",
      "\n",
      "Using /Users/austinpowell/anaconda/lib/python3.5/site-packages\n",
      "Searching for pandas==0.18.1\n",
      "Best match: pandas 0.18.1\n",
      "Adding pandas 0.18.1 to easy-install.pth file\n",
      "\n",
      "Using /Users/austinpowell/anaconda/lib/python3.5/site-packages\n",
      "Searching for scipy==0.18.1\n",
      "Best match: scipy 0.18.1\n",
      "Adding scipy 0.18.1 to easy-install.pth file\n",
      "\n",
      "Using /Users/austinpowell/anaconda/lib/python3.5/site-packages\n",
      "Searching for scikit-learn==0.17.1\n",
      "Best match: scikit-learn 0.17.1\n",
      "Adding scikit-learn 0.17.1 to easy-install.pth file\n",
      "\n",
      "Using /Users/austinpowell/anaconda/lib/python3.5/site-packages\n",
      "Searching for pytz==2016.6.1\n",
      "Best match: pytz 2016.6.1\n",
      "Adding pytz 2016.6.1 to easy-install.pth file\n",
      "\n",
      "Using /Users/austinpowell/anaconda/lib/python3.5/site-packages\n",
      "Searching for python-dateutil==2.5.3\n",
      "Best match: python-dateutil 2.5.3\n",
      "Adding python-dateutil 2.5.3 to easy-install.pth file\n",
      "\n",
      "Using /Users/austinpowell/anaconda/lib/python3.5/site-packages\n",
      "Searching for six==1.10.0\n",
      "Best match: six 1.10.0\n",
      "Adding six 1.10.0 to easy-install.pth file\n",
      "\n",
      "Using /Users/austinpowell/anaconda/lib/python3.5/site-packages\n",
      "Finished processing dependencies for fuzzy-dempster-shafer==0.123\n"
     ]
    }
   ],
   "source": [
    "! python3 setup.py install --user"
   ]
  },
  {
   "cell_type": "code",
   "execution_count": 2,
   "metadata": {
    "collapsed": false
   },
   "outputs": [],
   "source": [
    "import fuzzy_dempster_shafer as fds\n",
    "import pandas as pd\n",
    "from sklearn.cross_validation import train_test_split"
   ]
  },
  {
   "cell_type": "code",
   "execution_count": 3,
   "metadata": {
    "collapsed": false
   },
   "outputs": [],
   "source": [
    "df = pd.read_csv('data/colon.csv')\n",
    "df = df[['sex','age','obstruct','perfor','time','node4','surg','extent']]\n",
    "df = df.dropna() # algorithm currently does not handle na values or non-numeric\n",
    "\n",
    "X_train, X_test, y_train, y_test = train_test_split(df, df['sex'], test_size = 0.2)\n",
    "X_train = X_train.drop(['sex'], axis = 1)\n",
    "X_test = X_test.drop(['sex'], axis = 1)"
   ]
  },
  {
   "cell_type": "code",
   "execution_count": 4,
   "metadata": {
    "collapsed": false
   },
   "outputs": [
    {
     "name": "stdout",
     "output_type": "stream",
     "text": [
      "X_test shape: (372, 7)\n",
      "runtime:  2.4933040142059326\n",
      "     LR_Probabilities  LR_plus_DS_Probabilities  uncertain\n",
      "0            0.968362                       1.0        1.0\n",
      "1            0.997050                       1.0        1.0\n",
      "2            0.992166                       1.0        1.0\n",
      "3            0.998369                       1.0        1.0\n",
      "4            0.998402                       1.0        1.0\n",
      "5            0.999580                       1.0        1.0\n",
      "6            0.999415                       1.0        1.0\n",
      "7            0.995982                       1.0        1.0\n",
      "8            0.997138                       1.0        1.0\n",
      "9            0.996890                       1.0        1.0\n",
      "10           0.996691                       1.0        1.0\n",
      "11           0.987699                       1.0        1.0\n",
      "12           0.991892                       1.0        1.0\n",
      "13           0.995453                       1.0        1.0\n",
      "14           0.992792                       1.0        1.0\n",
      "15           0.991482                       1.0        1.0\n",
      "16           0.999660                       1.0        1.0\n",
      "17           0.986710                       1.0        1.0\n",
      "18           0.999552                       1.0        1.0\n",
      "19           0.998621                       1.0        1.0\n",
      "20           0.978359                       1.0        1.0\n",
      "21           0.986572                       1.0        1.0\n",
      "22           0.998560                       1.0        1.0\n",
      "23           0.999682                       1.0        1.0\n",
      "24           0.998668                       1.0        1.0\n",
      "25           0.999522                       1.0        1.0\n",
      "26           0.997171                       1.0        1.0\n",
      "27           0.999861                       1.0        1.0\n",
      "28           0.999065                       1.0        1.0\n",
      "29           0.998866                       1.0        1.0\n",
      "..                ...                       ...        ...\n",
      "342          0.961966                       1.0        1.0\n",
      "343          0.994253                       1.0        1.0\n",
      "344          0.999083                       1.0        1.0\n",
      "345          0.986762                       1.0        1.0\n",
      "346          0.998469                       1.0        1.0\n",
      "347          0.995800                       1.0        1.0\n",
      "348          0.989509                       1.0        1.0\n",
      "349          0.999613                       1.0        1.0\n",
      "350          0.989496                       1.0        1.0\n",
      "351          0.999308                       1.0        1.0\n",
      "352          0.987578                       1.0        1.0\n",
      "353          0.999163                       1.0        1.0\n",
      "354          0.999622                       1.0        1.0\n",
      "355          0.999402                       1.0        1.0\n",
      "356          0.998565                       1.0        1.0\n",
      "357          0.993303                       1.0        1.0\n",
      "358          0.997477                       1.0        1.0\n",
      "359          0.997575                       1.0        1.0\n",
      "360          0.935996                       1.0        1.0\n",
      "361          0.999175                       1.0        1.0\n",
      "362          0.993322                       1.0        1.0\n",
      "363          0.998932                       1.0        1.0\n",
      "364          0.997826                       1.0        1.0\n",
      "365          0.999445                       1.0        1.0\n",
      "366          0.997257                       1.0        1.0\n",
      "367          0.988629                       1.0        1.0\n",
      "368          0.984839                       1.0        1.0\n",
      "369          0.999125                       1.0        1.0\n",
      "370          0.999081                       1.0        1.0\n",
      "371          0.991498                       1.0        1.0\n",
      "\n",
      "[372 rows x 3 columns]\n"
     ]
    }
   ],
   "source": [
    "print('X_test shape:',X_test.shape)\n",
    "\n",
    "import time\n",
    "\n",
    "t0 = time.time()\n",
    "\n",
    "#temp_test = pd.DataFrame(X_test)\n",
    "fit_object = fds.fit(X_train,y_train)\n",
    "predictions = fds.predict(fit_object,X_test)\n",
    "\n",
    "t1 = time.time()\n",
    "print('runtime: ',t1-t0)\n",
    "\n",
    "#print('LR probabilities:', predictions['LR_Probabilities'])\n",
    "#print('LR_plus_DS_Probabilities:', predictions['LR_plus_DS_Probabilities'])\n",
    "prediction_df = pd.DataFrame(predictions['LR_Probabilities'])\n",
    "prediction_df['LR_plus_DS_Probabilities'] = predictions['LR_plus_DS_Probabilities']\n",
    "prediction_df['uncertain'] = predictions['uncertain']\n",
    "\n",
    "prediction_df.columns = ['LR_Probabilities','LR_plus_DS_Probabilities','uncertain']\n",
    "print(prediction_df)"
   ]
  },
  {
   "cell_type": "code",
   "execution_count": null,
   "metadata": {
    "collapsed": true
   },
   "outputs": [],
   "source": []
  }
 ],
 "metadata": {
  "anaconda-cloud": {},
  "kernelspec": {
   "display_name": "Python [conda root]",
   "language": "python",
   "name": "conda-root-py"
  },
  "language_info": {
   "codemirror_mode": {
    "name": "ipython",
    "version": 3
   },
   "file_extension": ".py",
   "mimetype": "text/x-python",
   "name": "python",
   "nbconvert_exporter": "python",
   "pygments_lexer": "ipython3",
   "version": "3.5.2"
  }
 },
 "nbformat": 4,
 "nbformat_minor": 1
}
